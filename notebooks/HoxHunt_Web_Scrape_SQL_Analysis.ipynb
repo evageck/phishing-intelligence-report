{
 "cells": [
  {
   "cell_type": "code",
   "execution_count": null,
   "id": "12577f3f",
   "metadata": {},
   "outputs": [],
   "source": [
    "# Step 1: Import libraries\n",
    "import os\n",
    "import requests\n",
    "import pandas as pd\n",
    "from bs4 import BeautifulSoup\n",
    "from sqlalchemy import create_engine\n",
    "from dotenv import load_dotenv\n",
    "\n",
    "# %%\n",
    "# Step 2: Load environment variables\n",
    "load_dotenv()\n",
    "\n",
    "pg_user = os.environ['PG_USER']\n",
    "pg_password = os.environ['PG_PASSWORD']\n",
    "pg_host = os.environ['PG_HOST']\n",
    "pg_port = os.environ['PG_PORT']\n",
    "pg_db = os.environ['PG_DB']"
   ]
  },
  {
   "cell_type": "code",
   "execution_count": null,
   "id": "b1fd131b",
   "metadata": {},
   "outputs": [],
   "source": [
    "# Step 3: Create engine\n",
    "from sqlalchemy import create_engine\n",
    "\n",
    "engine = create_engine(\n",
    "    f'postgresql+psycopg2://{pg_user}:{pg_password}@{pg_host}:{pg_port}/{pg_db}'\n",
    ")"
   ]
  },
  {
   "cell_type": "markdown",
   "id": "5322f9a9",
   "metadata": {},
   "source": [
    "## Diagnostic"
   ]
  },
  {
   "cell_type": "markdown",
   "id": "50b0eaed",
   "metadata": {},
   "source": [
    "### Business Question\n",
    "Which industries demonstrate the greatest improvement in phishing training success from month 0 to month 12, and how do they rank?\n"
   ]
  },
  {
   "cell_type": "code",
   "execution_count": null,
   "id": "0fecce75",
   "metadata": {},
   "outputs": [],
   "source": [
    "query1 = '''\n",
    "WITH improvement_cte AS (\n",
    "    SELECT \n",
    "        i.industry_name,\n",
    "        its.month_0,\n",
    "        its.month_12,\n",
    "        (its.month_12 - its.month_0) AS improvement\n",
    "    FROM raw.industry_training_success its\n",
    "    JOIN raw.dim_industry i ON its.industry_id = i.industry_id\n",
    "),\n",
    "ranked_improvements AS (\n",
    "    SELECT *,\n",
    "        RANK() OVER (ORDER BY improvement DESC) AS rank_by_improvement\n",
    "    FROM improvement_cte\n",
    ")\n",
    "SELECT *\n",
    "FROM ranked_improvements\n",
    "ORDER BY rank_by_improvement\n",
    "\n",
    ")\n",
    "SELECT *\n",
    "FROM ranked_improvements\n",
    "ORDER BY rank_by_improvement\n",
    "'''\n",
    "\n",
    "df_q1 = pd.read_sql(query1, con=engine)\n",
    "df_q1.reset_index(drop=True, inplace=True)\n",
    "df_q1\n"
   ]
  },
  {
   "cell_type": "markdown",
   "id": "a9f6e1a3",
   "metadata": {},
   "source": [
    "### Insight\n",
    "The *Financial Services* industry experienced the greatest improvement in phishing training success over a 12-month period, increasing from 48% to 74% — a 26-point gain. Meanwhile, *Pharma & healthcare* showed the least progress, improving only 10 points. This highlights a significant disparity in training effectiveness across industries.\n",
    "\n",
    "### Recommendation\n",
    "Prioritize additional support and tailored training for industries with lower improvement rates such as *Pharma & healthcare* and *IT, software, internet*. Investigate possible causes like engagement, delivery methods, or content relevance to enhance outcomes.\n",
    "\n",
    "### Prediction\n",
    "If current patterns hold, top-performing industries may stabilize, while lower-performing sectors risk stagnation or decline unless proactive measures are taken. Focused interventions could help bridge the performance gap in the coming year."
   ]
  }
 ],
 "metadata": {
  "kernelspec": {
   "display_name": "Python 3",
   "language": "python",
   "name": "python3"
  },
  "language_info": {
   "codemirror_mode": {
    "name": "ipython",
    "version": 3
   },
   "file_extension": ".py",
   "mimetype": "text/x-python",
   "name": "python",
   "nbconvert_exporter": "python",
   "pygments_lexer": "ipython3",
   "version": "3.12.1"
  }
 },
 "nbformat": 4,
 "nbformat_minor": 5
}
