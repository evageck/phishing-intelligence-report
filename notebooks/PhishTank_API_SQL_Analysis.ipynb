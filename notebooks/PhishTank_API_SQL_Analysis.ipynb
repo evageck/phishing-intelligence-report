{
 "cells": [
  {
   "cell_type": "code",
   "execution_count": 2,
   "id": "b99be7cd",
   "metadata": {},
   "outputs": [],
   "source": [
    "# %%\n",
    "# Step 1: Import libraries\n",
    "import os\n",
    "import requests\n",
    "import pandas as pd\n",
    "from bs4 import BeautifulSoup\n",
    "from sqlalchemy import create_engine\n",
    "from dotenv import load_dotenv\n",
    "\n",
    "# %%\n",
    "# Step 2: Load environment variables\n",
    "load_dotenv()\n",
    "\n",
    "pg_user = os.environ['PG_USER']\n",
    "pg_password = os.environ['PG_PASSWORD']\n",
    "pg_host = os.environ['PG_HOST']\n",
    "pg_port = os.environ['PG_PORT']\n",
    "pg_db = os.environ['PG_DB']\n",
    "\n",
    "# %%"
   ]
  },
  {
   "cell_type": "code",
   "execution_count": 3,
   "id": "fb837dfa",
   "metadata": {},
   "outputs": [],
   "source": [
    "# Step 3: Create engine\n",
    "from sqlalchemy import create_engine\n",
    "\n",
    "engine = create_engine(\n",
    "    f'postgresql+psycopg2://{pg_user}:{pg_password}@{pg_host}:{pg_port}/{pg_db}'\n",
    ")\n"
   ]
  },
  {
   "cell_type": "markdown",
   "id": "af9b2dae",
   "metadata": {},
   "source": [
    "## Diagnostic = focuses on pattern across length groups → informs model training logic."
   ]
  },
  {
   "cell_type": "markdown",
   "id": "3c3aae32",
   "metadata": {},
   "source": [
    "### Business Question\n",
    "What is the most frequently observed URL length category—_Short_, _Medium_, or _Long_—among **verified phishing URLs**, and how might this pattern inform anti-phishing detection strategies?"
   ]
  },
  {
   "cell_type": "code",
   "execution_count": 4,
   "id": "32bc92ac",
   "metadata": {},
   "outputs": [
    {
     "data": {
      "text/html": [
       "<div>\n",
       "<style scoped>\n",
       "    .dataframe tbody tr th:only-of-type {\n",
       "        vertical-align: middle;\n",
       "    }\n",
       "\n",
       "    .dataframe tbody tr th {\n",
       "        vertical-align: top;\n",
       "    }\n",
       "\n",
       "    .dataframe thead th {\n",
       "        text-align: right;\n",
       "    }\n",
       "</style>\n",
       "<table border=\"1\" class=\"dataframe\">\n",
       "  <thead>\n",
       "    <tr style=\"text-align: right;\">\n",
       "      <th></th>\n",
       "      <th>length_category</th>\n",
       "      <th>phishing_status</th>\n",
       "      <th>url_count</th>\n",
       "      <th>rank_within_status</th>\n",
       "    </tr>\n",
       "  </thead>\n",
       "  <tbody>\n",
       "    <tr>\n",
       "      <th>0</th>\n",
       "      <td>Medium</td>\n",
       "      <td>Phishing (Verified)</td>\n",
       "      <td>47</td>\n",
       "      <td>1</td>\n",
       "    </tr>\n",
       "    <tr>\n",
       "      <th>1</th>\n",
       "      <td>Short</td>\n",
       "      <td>Phishing (Verified)</td>\n",
       "      <td>10</td>\n",
       "      <td>2</td>\n",
       "    </tr>\n",
       "  </tbody>\n",
       "</table>\n",
       "</div>"
      ],
      "text/plain": [
       "  length_category      phishing_status  url_count  rank_within_status\n",
       "0          Medium  Phishing (Verified)         47                   1\n",
       "1           Short  Phishing (Verified)         10                   2"
      ]
     },
     "execution_count": 4,
     "metadata": {},
     "output_type": "execute_result"
    }
   ],
   "source": [
    "query1 = '''\n",
    "WITH length_buckets AS (\n",
    "    SELECT \n",
    "        CASE \n",
    "            WHEN u.url_length < 30 THEN 'Short'\n",
    "            WHEN u.url_length BETWEEN 30 AND 60 THEN 'Medium'\n",
    "            ELSE 'Long'\n",
    "        END AS length_category,\n",
    "        f.phishing_status,\n",
    "        COUNT(*) AS url_count\n",
    "    FROM raw.fact_phishing_urls f\n",
    "    JOIN raw.dim_url_features u\n",
    "        ON f.feature_id = u.feature_id\n",
    "    GROUP BY length_category, f.phishing_status\n",
    "),\n",
    "ranked_lengths AS (\n",
    "    SELECT *,\n",
    "           RANK() OVER (PARTITION BY phishing_status ORDER BY url_count DESC) AS rank_within_status\n",
    "    FROM length_buckets\n",
    ")\n",
    "SELECT *\n",
    "FROM ranked_lengths\n",
    "WHERE phishing_status = 'Phishing (Verified)'\n",
    "ORDER BY url_count DESC;\n",
    "\n",
    "'''\n",
    "\n",
    "df_q1 = pd.read_sql(query1, con=engine)\n",
    "df_q1\n"
   ]
  },
  {
   "cell_type": "markdown",
   "id": "a54e77ff",
   "metadata": {},
   "source": [
    "### Insight\n",
    "Phishers disproportionately use medium-length URLs (30–60 characters), while avoiding short and long formats.\n",
    "\n",
    "### Recommendation\n",
    "Incorporate URL length category as a feature in phishing detection models or machine learning classifiers.\n",
    "\n",
    "### Prediction\n",
    "Enhancing models with categorical length data will improve prediction accuracy and reduce overlooked phishing attempts.\n"
   ]
  },
  {
   "cell_type": "markdown",
   "id": "d2b94947",
   "metadata": {},
   "source": [
    "## Descriptive = focuses on specific length (32) → informs heuristics."
   ]
  },
  {
   "cell_type": "markdown",
   "id": "bb35fc47",
   "metadata": {},
   "source": [
    "### Business Question\n",
    "What are the most common URL lengths among verified phishing websites?"
   ]
  },
  {
   "cell_type": "code",
   "execution_count": 5,
   "id": "d44feb20",
   "metadata": {},
   "outputs": [
    {
     "data": {
      "text/html": [
       "<div>\n",
       "<style scoped>\n",
       "    .dataframe tbody tr th:only-of-type {\n",
       "        vertical-align: middle;\n",
       "    }\n",
       "\n",
       "    .dataframe tbody tr th {\n",
       "        vertical-align: top;\n",
       "    }\n",
       "\n",
       "    .dataframe thead th {\n",
       "        text-align: right;\n",
       "    }\n",
       "</style>\n",
       "<table border=\"1\" class=\"dataframe\">\n",
       "  <thead>\n",
       "    <tr style=\"text-align: right;\">\n",
       "      <th></th>\n",
       "      <th>url_length</th>\n",
       "      <th>url_count</th>\n",
       "    </tr>\n",
       "  </thead>\n",
       "  <tbody>\n",
       "    <tr>\n",
       "      <th>0</th>\n",
       "      <td>32</td>\n",
       "      <td>7</td>\n",
       "    </tr>\n",
       "    <tr>\n",
       "      <th>1</th>\n",
       "      <td>33</td>\n",
       "      <td>5</td>\n",
       "    </tr>\n",
       "    <tr>\n",
       "      <th>2</th>\n",
       "      <td>31</td>\n",
       "      <td>5</td>\n",
       "    </tr>\n",
       "    <tr>\n",
       "      <th>3</th>\n",
       "      <td>34</td>\n",
       "      <td>5</td>\n",
       "    </tr>\n",
       "    <tr>\n",
       "      <th>4</th>\n",
       "      <td>30</td>\n",
       "      <td>5</td>\n",
       "    </tr>\n",
       "    <tr>\n",
       "      <th>5</th>\n",
       "      <td>39</td>\n",
       "      <td>4</td>\n",
       "    </tr>\n",
       "    <tr>\n",
       "      <th>6</th>\n",
       "      <td>37</td>\n",
       "      <td>3</td>\n",
       "    </tr>\n",
       "  </tbody>\n",
       "</table>\n",
       "</div>"
      ],
      "text/plain": [
       "   url_length  url_count\n",
       "0          32          7\n",
       "1          33          5\n",
       "2          31          5\n",
       "3          34          5\n",
       "4          30          5\n",
       "5          39          4\n",
       "6          37          3"
      ]
     },
     "execution_count": 5,
     "metadata": {},
     "output_type": "execute_result"
    }
   ],
   "source": [
    "query2 = '''\n",
    "SELECT\n",
    "    u.url_length,\n",
    "    COUNT(*) AS url_count\n",
    "FROM raw.fact_phishing_urls f\n",
    "JOIN raw.dim_url_features u \n",
    "    ON f.feature_id = u.feature_id\n",
    "WHERE f.phishing_status = 'Phishing (Verified)'\n",
    "GROUP BY u.url_length\n",
    "ORDER BY url_count DESC\n",
    "LIMIT 7;\n",
    "'''\n",
    "\n",
    "df_q2 = pd.read_sql(query2, con=engine)\n",
    "df_q2\n"
   ]
  },
  {
   "cell_type": "markdown",
   "id": "426599e0",
   "metadata": {},
   "source": [
    "### Insight\n",
    "Most verified phishing URLs are 32 characters long, making it the most common individual URL length among observed phishing data.\n",
    "\n",
    "### Recommendation\n",
    "Prioritize monitoring URLs around 32 characters in length when designing detection heuristics.\n",
    "\n",
    "### Prediction\n",
    "If length-specific filters are used, phishing link recognition will improve for common formats used by attackers."
   ]
  }
 ],
 "metadata": {
  "kernelspec": {
   "display_name": "Python 3",
   "language": "python",
   "name": "python3"
  },
  "language_info": {
   "codemirror_mode": {
    "name": "ipython",
    "version": 3
   },
   "file_extension": ".py",
   "mimetype": "text/x-python",
   "name": "python",
   "nbconvert_exporter": "python",
   "pygments_lexer": "ipython3",
   "version": "3.12.1"
  }
 },
 "nbformat": 4,
 "nbformat_minor": 5
}
