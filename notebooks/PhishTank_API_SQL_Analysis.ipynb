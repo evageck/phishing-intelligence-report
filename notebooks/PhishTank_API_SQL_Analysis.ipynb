{
 "cells": [
  {
   "cell_type": "code",
   "execution_count": 1,
   "id": "b99be7cd",
   "metadata": {},
   "outputs": [],
   "source": [
    "# %%\n",
    "# Step 1: Import libraries\n",
    "import os\n",
    "import requests\n",
    "import pandas as pd\n",
    "from bs4 import BeautifulSoup\n",
    "from sqlalchemy import create_engine\n",
    "from dotenv import load_dotenv\n",
    "\n",
    "# %%\n",
    "# Step 2: Load environment variables\n",
    "load_dotenv()\n",
    "\n",
    "pg_user = os.environ['PG_USER']\n",
    "pg_password = os.environ['PG_PASSWORD']\n",
    "pg_host = os.environ['PG_HOST']\n",
    "pg_port = os.environ['PG_PORT']\n",
    "pg_db = os.environ['PG_DB']\n",
    "\n",
    "# %%"
   ]
  },
  {
   "cell_type": "code",
   "execution_count": 2,
   "id": "fb837dfa",
   "metadata": {},
   "outputs": [],
   "source": [
    "# Step 3: Create engine\n",
    "from sqlalchemy import create_engine\n",
    "\n",
    "engine = create_engine(\n",
    "    f'postgresql+psycopg2://{pg_user}:{pg_password}@{pg_host}:{pg_port}/{pg_db}'\n",
    ")\n"
   ]
  },
  {
   "cell_type": "markdown",
   "id": "af9b2dae",
   "metadata": {},
   "source": [
    "## Diagnostic"
   ]
  },
  {
   "cell_type": "markdown",
   "id": "3c3aae32",
   "metadata": {},
   "source": [
    "### Business Question\n",
    "What are the most common URL feature combinations (HTTPS usage and IP address presence) among verified phishing URLs?"
   ]
  },
  {
   "cell_type": "code",
   "execution_count": 4,
   "id": "32bc92ac",
   "metadata": {},
   "outputs": [
    {
     "data": {
      "text/html": [
       "<div>\n",
       "<style scoped>\n",
       "    .dataframe tbody tr th:only-of-type {\n",
       "        vertical-align: middle;\n",
       "    }\n",
       "\n",
       "    .dataframe tbody tr th {\n",
       "        vertical-align: top;\n",
       "    }\n",
       "\n",
       "    .dataframe thead th {\n",
       "        text-align: right;\n",
       "    }\n",
       "</style>\n",
       "<table border=\"1\" class=\"dataframe\">\n",
       "  <thead>\n",
       "    <tr style=\"text-align: right;\">\n",
       "      <th></th>\n",
       "      <th>length_category</th>\n",
       "      <th>phishing_status</th>\n",
       "      <th>url_count</th>\n",
       "      <th>rank_within_status</th>\n",
       "    </tr>\n",
       "  </thead>\n",
       "  <tbody>\n",
       "    <tr>\n",
       "      <th>0</th>\n",
       "      <td>Medium</td>\n",
       "      <td>Phishing (Verified)</td>\n",
       "      <td>47</td>\n",
       "      <td>1</td>\n",
       "    </tr>\n",
       "    <tr>\n",
       "      <th>1</th>\n",
       "      <td>Short</td>\n",
       "      <td>Phishing (Verified)</td>\n",
       "      <td>10</td>\n",
       "      <td>2</td>\n",
       "    </tr>\n",
       "  </tbody>\n",
       "</table>\n",
       "</div>"
      ],
      "text/plain": [
       "  length_category      phishing_status  url_count  rank_within_status\n",
       "0          Medium  Phishing (Verified)         47                   1\n",
       "1           Short  Phishing (Verified)         10                   2"
      ]
     },
     "execution_count": 4,
     "metadata": {},
     "output_type": "execute_result"
    }
   ],
   "source": [
    "query1 = '''\n",
    "WITH length_buckets AS (\n",
    "    SELECT \n",
    "        CASE \n",
    "            WHEN u.url_length < 30 THEN 'Short'\n",
    "            WHEN u.url_length BETWEEN 30 AND 60 THEN 'Medium'\n",
    "            ELSE 'Long'\n",
    "        END AS length_category,\n",
    "        f.phishing_status,\n",
    "        COUNT(*) AS url_count\n",
    "    FROM raw.fact_phishing_urls f\n",
    "    JOIN raw.dim_url_features u\n",
    "        ON f.feature_id = u.feature_id\n",
    "    GROUP BY length_category, f.phishing_status\n",
    "),\n",
    "ranked_lengths AS (\n",
    "    SELECT *,\n",
    "           RANK() OVER (PARTITION BY phishing_status ORDER BY url_count DESC) AS rank_within_status\n",
    "    FROM length_buckets\n",
    ")\n",
    "SELECT *\n",
    "FROM ranked_lengths\n",
    "WHERE phishing_status = 'Phishing (Verified)'\n",
    "ORDER BY url_count DESC;\n",
    "\n",
    "'''\n",
    "\n",
    "df_q1 = pd.read_sql(query1, con=engine)\n",
    "df_q1\n"
   ]
  },
  {
   "cell_type": "markdown",
   "id": "a54e77ff",
   "metadata": {},
   "source": [
    "### Insight  \n",
    "Among verified phishing URLs, the **\"Medium\" length category (30–60 characters)** is the most common, with 47 instances, compared to only 10 in the \"Short\" category. No long URLs appeared in this filtered result set, suggesting that phishers tend to use medium-length URLs when crafting deceptive links.\n",
    "\n",
    "### Recommendation  \n",
    "Awareness campaigns and security tools should pay closer attention to medium-length URLs that appear suspicious or unfamiliar. URL length, while not a definitive indicator of phishing, can be used as a risk signal when combined with other red flags like lack of HTTPS or suspicious domains.\n",
    "\n",
    "### Prediction  \n",
    "If the trend continues, phishing detection models that factor in **medium-length URLs** as a high-risk feature may improve early identification of phishing attacks, especially when integrated with additional metadata like domain age or SSL usage.\n"
   ]
  },
  {
   "cell_type": "markdown",
   "id": "d2b94947",
   "metadata": {},
   "source": [
    "## Descriptive"
   ]
  },
  {
   "cell_type": "markdown",
   "id": "bb35fc47",
   "metadata": {},
   "source": [
    "### Business Question\n",
    "Which URL length categories are most frequently associated with verified phishing URLs, and how do they rank?"
   ]
  },
  {
   "cell_type": "code",
   "execution_count": 3,
   "id": "d44feb20",
   "metadata": {},
   "outputs": [
    {
     "data": {
      "text/html": [
       "<div>\n",
       "<style scoped>\n",
       "    .dataframe tbody tr th:only-of-type {\n",
       "        vertical-align: middle;\n",
       "    }\n",
       "\n",
       "    .dataframe tbody tr th {\n",
       "        vertical-align: top;\n",
       "    }\n",
       "\n",
       "    .dataframe thead th {\n",
       "        text-align: right;\n",
       "    }\n",
       "</style>\n",
       "<table border=\"1\" class=\"dataframe\">\n",
       "  <thead>\n",
       "    <tr style=\"text-align: right;\">\n",
       "      <th></th>\n",
       "      <th>phishing_status</th>\n",
       "      <th>uses_https</th>\n",
       "      <th>has_ip_address</th>\n",
       "      <th>url_count</th>\n",
       "      <th>rank_within_status</th>\n",
       "    </tr>\n",
       "  </thead>\n",
       "  <tbody>\n",
       "    <tr>\n",
       "      <th>0</th>\n",
       "      <td>Phishing (Verified)</td>\n",
       "      <td>True</td>\n",
       "      <td>False</td>\n",
       "      <td>57</td>\n",
       "      <td>1</td>\n",
       "    </tr>\n",
       "  </tbody>\n",
       "</table>\n",
       "</div>"
      ],
      "text/plain": [
       "       phishing_status  uses_https  has_ip_address  url_count  \\\n",
       "0  Phishing (Verified)        True           False         57   \n",
       "\n",
       "   rank_within_status  \n",
       "0                   1  "
      ]
     },
     "execution_count": 3,
     "metadata": {},
     "output_type": "execute_result"
    }
   ],
   "source": [
    "query1 = '''\n",
    "\n",
    "WITH feature_summary AS (\n",
    "    SELECT \n",
    "        f.phishing_status,\n",
    "        u.uses_https,\n",
    "        u.has_ip_address,\n",
    "        COUNT(*) AS url_count\n",
    "    FROM raw.fact_phishing_urls f\n",
    "    JOIN raw.dim_url_features u\n",
    "        ON f.feature_id = u.feature_id\n",
    "    GROUP BY f.phishing_status, u.uses_https, u.has_ip_address\n",
    "),\n",
    "ranked_summary AS (\n",
    "    SELECT *,\n",
    "        RANK() OVER (\n",
    "            PARTITION BY phishing_status \n",
    "            ORDER BY url_count DESC\n",
    "        ) AS rank_within_status\n",
    "    FROM feature_summary\n",
    ")\n",
    "SELECT * \n",
    "FROM ranked_summary\n",
    "WHERE rank_within_status <= 3;\n",
    "\n",
    "'''\n",
    "\n",
    "df_q1 = pd.read_sql(query1, con=engine)\n",
    "df_q1\n"
   ]
  },
  {
   "cell_type": "markdown",
   "id": "426599e0",
   "metadata": {},
   "source": [
    "### Insight\n",
    "The most common feature combination among verified phishing URLs (57 instances) includes the use of HTTPS and the absence of an IP address. This indicates that phishing websites often adopt HTTPS to appear more legitimate and trustworthy. Also, the most common verified phishing URLs (57 instances) do **not** contain an IP address. This suggests that attackers are favoring domain-based URLs over raw IP addresses, likely to make the links appear more trustworthy and avoid detection.\n",
    "\n",
    "### Recommendation\n",
    "Security awareness training should emphasize that HTTPS does not guarantee a site's legitimacy. Detection tools and user training should not rely solely on spotting IP addresses in URLs as phishing indicators.\n",
    "\n",
    "### Prediction\n",
    "As phishing techniques evolve, we can expect an increasing number of phishing sites to use HTTPS by default, reducing the reliability of HTTPS as a standalone trust signal. The trend of using domain-based phishing URLs will continue to rise, as attackers mimic legitimate domain structures to evade user suspicion and automated filters.\n"
   ]
  }
 ],
 "metadata": {
  "kernelspec": {
   "display_name": "Python 3",
   "language": "python",
   "name": "python3"
  },
  "language_info": {
   "codemirror_mode": {
    "name": "ipython",
    "version": 3
   },
   "file_extension": ".py",
   "mimetype": "text/x-python",
   "name": "python",
   "nbconvert_exporter": "python",
   "pygments_lexer": "ipython3",
   "version": "3.12.1"
  }
 },
 "nbformat": 4,
 "nbformat_minor": 5
}
