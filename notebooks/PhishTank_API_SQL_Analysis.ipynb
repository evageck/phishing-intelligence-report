{
 "cells": [
  {
   "cell_type": "code",
   "execution_count": 2,
   "id": "b99be7cd",
   "metadata": {},
   "outputs": [],
   "source": [
    "# %%\n",
    "# Step 1: Import libraries\n",
    "import os\n",
    "import requests\n",
    "import pandas as pd\n",
    "from bs4 import BeautifulSoup\n",
    "from sqlalchemy import create_engine\n",
    "from dotenv import load_dotenv\n",
    "\n",
    "# %%\n",
    "# Step 2: Load environment variables\n",
    "load_dotenv()\n",
    "\n",
    "pg_user = os.environ['PG_USER']\n",
    "pg_password = os.environ['PG_PASSWORD']\n",
    "pg_host = os.environ['PG_HOST']\n",
    "pg_port = os.environ['PG_PORT']\n",
    "pg_db = os.environ['PG_DB']\n",
    "\n",
    "# %%"
   ]
  },
  {
   "cell_type": "code",
   "execution_count": 3,
   "id": "fb837dfa",
   "metadata": {},
   "outputs": [],
   "source": [
    "# Step 3: Create engine\n",
    "from sqlalchemy import create_engine\n",
    "\n",
    "engine = create_engine(\n",
    "    f'postgresql+psycopg2://{pg_user}:{pg_password}@{pg_host}:{pg_port}/{pg_db}'\n",
    ")\n"
   ]
  },
  {
   "cell_type": "markdown",
   "id": "af9b2dae",
   "metadata": {},
   "source": [
    "## Diagnostic"
   ]
  },
  {
   "cell_type": "markdown",
   "id": "3c3aae32",
   "metadata": {},
   "source": [
    "### Business Question\n",
    "What are the most common URL feature combinations (HTTPS usage and IP address presence) among verified phishing URLs?"
   ]
  },
  {
   "cell_type": "code",
   "execution_count": 4,
   "id": "32bc92ac",
   "metadata": {},
   "outputs": [
    {
     "data": {
      "text/html": [
       "<div>\n",
       "<style scoped>\n",
       "    .dataframe tbody tr th:only-of-type {\n",
       "        vertical-align: middle;\n",
       "    }\n",
       "\n",
       "    .dataframe tbody tr th {\n",
       "        vertical-align: top;\n",
       "    }\n",
       "\n",
       "    .dataframe thead th {\n",
       "        text-align: right;\n",
       "    }\n",
       "</style>\n",
       "<table border=\"1\" class=\"dataframe\">\n",
       "  <thead>\n",
       "    <tr style=\"text-align: right;\">\n",
       "      <th></th>\n",
       "      <th>length_category</th>\n",
       "      <th>phishing_status</th>\n",
       "      <th>url_count</th>\n",
       "      <th>rank_within_status</th>\n",
       "    </tr>\n",
       "  </thead>\n",
       "  <tbody>\n",
       "    <tr>\n",
       "      <th>0</th>\n",
       "      <td>Medium</td>\n",
       "      <td>Phishing (Verified)</td>\n",
       "      <td>47</td>\n",
       "      <td>1</td>\n",
       "    </tr>\n",
       "    <tr>\n",
       "      <th>1</th>\n",
       "      <td>Short</td>\n",
       "      <td>Phishing (Verified)</td>\n",
       "      <td>10</td>\n",
       "      <td>2</td>\n",
       "    </tr>\n",
       "  </tbody>\n",
       "</table>\n",
       "</div>"
      ],
      "text/plain": [
       "  length_category      phishing_status  url_count  rank_within_status\n",
       "0          Medium  Phishing (Verified)         47                   1\n",
       "1           Short  Phishing (Verified)         10                   2"
      ]
     },
     "execution_count": 4,
     "metadata": {},
     "output_type": "execute_result"
    }
   ],
   "source": [
    "query1 = '''\n",
    "WITH length_buckets AS (\n",
    "    SELECT \n",
    "        CASE \n",
    "            WHEN u.url_length < 30 THEN 'Short'\n",
    "            WHEN u.url_length BETWEEN 30 AND 60 THEN 'Medium'\n",
    "            ELSE 'Long'\n",
    "        END AS length_category,\n",
    "        f.phishing_status,\n",
    "        COUNT(*) AS url_count\n",
    "    FROM raw.fact_phishing_urls f\n",
    "    JOIN raw.dim_url_features u\n",
    "        ON f.feature_id = u.feature_id\n",
    "    GROUP BY length_category, f.phishing_status\n",
    "),\n",
    "ranked_lengths AS (\n",
    "    SELECT *,\n",
    "           RANK() OVER (PARTITION BY phishing_status ORDER BY url_count DESC) AS rank_within_status\n",
    "    FROM length_buckets\n",
    ")\n",
    "SELECT *\n",
    "FROM ranked_lengths\n",
    "WHERE phishing_status = 'Phishing (Verified)'\n",
    "ORDER BY url_count DESC;\n",
    "\n",
    "'''\n",
    "\n",
    "df_q1 = pd.read_sql(query1, con=engine)\n",
    "df_q1\n"
   ]
  },
  {
   "cell_type": "markdown",
   "id": "a54e77ff",
   "metadata": {},
   "source": [
    "### Insight  \n",
    "Among verified phishing URLs, the **\"Medium\" length category (30–60 characters)** is the most common, with 47 instances, compared to only 10 in the \"Short\" category. No long URLs appeared in this filtered result set, suggesting that phishers tend to use medium-length URLs when crafting deceptive links.\n",
    "\n",
    "### Recommendation  \n",
    "Awareness campaigns and security tools should pay closer attention to medium-length URLs that appear suspicious or unfamiliar. URL length, while not a definitive indicator of phishing, can be used as a risk signal when combined with other red flags like lack of HTTPS or suspicious domains.\n",
    "\n",
    "### Prediction  \n",
    "If the trend continues, phishing detection models that factor in **medium-length URLs** as a high-risk feature may improve early identification of phishing attacks, especially when integrated with additional metadata like domain age or SSL usage.\n"
   ]
  },
  {
   "cell_type": "markdown",
   "id": "d2b94947",
   "metadata": {},
   "source": [
    "## Descriptive"
   ]
  },
  {
   "cell_type": "markdown",
   "id": "bb35fc47",
   "metadata": {},
   "source": [
    "### Business Question\n",
    "What are the most common URL lengths among verified phishing websites?"
   ]
  },
  {
   "cell_type": "code",
   "execution_count": 5,
   "id": "d44feb20",
   "metadata": {},
   "outputs": [
    {
     "data": {
      "text/html": [
       "<div>\n",
       "<style scoped>\n",
       "    .dataframe tbody tr th:only-of-type {\n",
       "        vertical-align: middle;\n",
       "    }\n",
       "\n",
       "    .dataframe tbody tr th {\n",
       "        vertical-align: top;\n",
       "    }\n",
       "\n",
       "    .dataframe thead th {\n",
       "        text-align: right;\n",
       "    }\n",
       "</style>\n",
       "<table border=\"1\" class=\"dataframe\">\n",
       "  <thead>\n",
       "    <tr style=\"text-align: right;\">\n",
       "      <th></th>\n",
       "      <th>url_length</th>\n",
       "      <th>url_count</th>\n",
       "    </tr>\n",
       "  </thead>\n",
       "  <tbody>\n",
       "    <tr>\n",
       "      <th>0</th>\n",
       "      <td>32</td>\n",
       "      <td>7</td>\n",
       "    </tr>\n",
       "    <tr>\n",
       "      <th>1</th>\n",
       "      <td>33</td>\n",
       "      <td>5</td>\n",
       "    </tr>\n",
       "    <tr>\n",
       "      <th>2</th>\n",
       "      <td>31</td>\n",
       "      <td>5</td>\n",
       "    </tr>\n",
       "    <tr>\n",
       "      <th>3</th>\n",
       "      <td>34</td>\n",
       "      <td>5</td>\n",
       "    </tr>\n",
       "    <tr>\n",
       "      <th>4</th>\n",
       "      <td>30</td>\n",
       "      <td>5</td>\n",
       "    </tr>\n",
       "    <tr>\n",
       "      <th>5</th>\n",
       "      <td>39</td>\n",
       "      <td>4</td>\n",
       "    </tr>\n",
       "    <tr>\n",
       "      <th>6</th>\n",
       "      <td>37</td>\n",
       "      <td>3</td>\n",
       "    </tr>\n",
       "  </tbody>\n",
       "</table>\n",
       "</div>"
      ],
      "text/plain": [
       "   url_length  url_count\n",
       "0          32          7\n",
       "1          33          5\n",
       "2          31          5\n",
       "3          34          5\n",
       "4          30          5\n",
       "5          39          4\n",
       "6          37          3"
      ]
     },
     "execution_count": 5,
     "metadata": {},
     "output_type": "execute_result"
    }
   ],
   "source": [
    "query2 = '''\n",
    "SELECT\n",
    "    u.url_length,\n",
    "    COUNT(*) AS url_count\n",
    "FROM raw.fact_phishing_urls f\n",
    "JOIN raw.dim_url_features u \n",
    "    ON f.feature_id = u.feature_id\n",
    "WHERE f.phishing_status = 'Phishing (Verified)'\n",
    "GROUP BY u.url_length\n",
    "ORDER BY url_count DESC\n",
    "LIMIT 7;\n",
    "'''\n",
    "\n",
    "df_q2 = pd.read_sql(query2, con=engine)\n",
    "df_q2\n"
   ]
  },
  {
   "cell_type": "markdown",
   "id": "426599e0",
   "metadata": {},
   "source": [
    "### Insight\n",
    "Among phishing URLs, the most frequently observed lengths are between 30 and 34 characters, with 32-character URLs being the most common.\n",
    "\n",
    "### Recommendation\n",
    "When building detection rules or URL scanning tools, prioritize flagging URLs that fall within this 30–34 character range, especially if other suspicious patterns (like lack of HTTPS or use of IPs) are also present.\n",
    "\n",
    "### Prediction\n",
    "Phishing attempts will likely continue to use URL lengths that resemble typical login or short redirect links (30–35 characters) in order to appear legitimate to users and evade detection heuristics.\n"
   ]
  }
 ],
 "metadata": {
  "kernelspec": {
   "display_name": "Python 3",
   "language": "python",
   "name": "python3"
  },
  "language_info": {
   "codemirror_mode": {
    "name": "ipython",
    "version": 3
   },
   "file_extension": ".py",
   "mimetype": "text/x-python",
   "name": "python",
   "nbconvert_exporter": "python",
   "pygments_lexer": "ipython3",
   "version": "3.12.1"
  }
 },
 "nbformat": 4,
 "nbformat_minor": 5
}
